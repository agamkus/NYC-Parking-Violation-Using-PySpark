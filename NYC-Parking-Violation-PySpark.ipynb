{
 "cells": [
  {
   "cell_type": "markdown",
   "metadata": {},
   "source": [
    "# <center><u>NYC Parking Violation Case Study</center></u>"
   ]
  },
  {
   "cell_type": "markdown",
   "metadata": {},
   "source": [
    "# <u>Problem Statement:"
   ]
  },
  {
   "cell_type": "markdown",
   "metadata": {},
   "source": [
    "Big data analytics allows you to analyse data at scale. It has applications in almost every industry in the world. Let’s consider an unconventional application that you wouldn’t ordinarily encounter.\n",
    "\n",
    "New York City is a thriving metropolis. Just like most other metros its size, one of the biggest problems its citizens face is parking. The classic combination of a huge number of cars and cramped geography leads to a huge number of parking tickets.\n",
    "\n",
    "In an attempt to scientifically analyse this phenomenon, the NYC Police Department has **collected data for parking tickets**. Of these, the data files for multiple years are publicly available on Kaggle. We will try and perform some **exploratory analysis** on a part of this data. Spark will allow us to analyse the full files at high speeds as opposed to taking a series of random samples that will approximate the population. For the scope of this analysis, we will analyse the parking tickets over the year **2017**.\n",
    "\n",
    "The purpose of this case study is to conduct an exploratory data analysis that will help you understand the data."
   ]
  },
  {
   "cell_type": "markdown",
   "metadata": {},
   "source": [
    "##### Creating Spark Session:"
   ]
  },
  {
   "cell_type": "code",
   "execution_count": 2,
   "metadata": {},
   "outputs": [],
   "source": [
    "from pyspark.sql import SparkSession\n",
    "spark = SparkSession \\\n",
    "    .builder \\\n",
    "    .appName(\"NYC Parking\") \\\n",
    "    .getOrCreate()"
   ]
  },
  {
   "cell_type": "code",
   "execution_count": 3,
   "metadata": {},
   "outputs": [
    {
     "data": {
      "text/html": [
       "\n",
       "            <div>\n",
       "                <p><b>SparkSession - in-memory</b></p>\n",
       "                \n",
       "        <div>\n",
       "            <p><b>SparkContext</b></p>\n",
       "\n",
       "            <p><a href=\"http://DESKTOP-R7IPFCN:4040\">Spark UI</a></p>\n",
       "\n",
       "            <dl>\n",
       "              <dt>Version</dt>\n",
       "                <dd><code>v3.0.1</code></dd>\n",
       "              <dt>Master</dt>\n",
       "                <dd><code>local[*]</code></dd>\n",
       "              <dt>AppName</dt>\n",
       "                <dd><code>NYC Parking</code></dd>\n",
       "            </dl>\n",
       "        </div>\n",
       "        \n",
       "            </div>\n",
       "        "
      ],
      "text/plain": [
       "<pyspark.sql.session.SparkSession at 0x24e6d19a080>"
      ]
     },
     "execution_count": 3,
     "metadata": {},
     "output_type": "execute_result"
    }
   ],
   "source": [
    "spark"
   ]
  },
  {
   "cell_type": "markdown",
   "metadata": {},
   "source": [
    "##### Reading the Data Set:"
   ]
  },
  {
   "cell_type": "code",
   "execution_count": 4,
   "metadata": {
    "scrolled": true
   },
   "outputs": [],
   "source": [
    "df = spark.read.format(\"csv\").option(\"header\", \"true\").option(\"inferSchema\", \"true\").load(\"/common_folder/nyc_parking/Parking_Violations_Issued_-_Fiscal_Year_2017.csv\")"
   ]
  },
  {
   "cell_type": "markdown",
   "metadata": {},
   "source": [
    "##### Observing top 5 rows of the dataframe:"
   ]
  },
  {
   "cell_type": "code",
   "execution_count": 5,
   "metadata": {},
   "outputs": [
    {
     "name": "stdout",
     "output_type": "stream",
     "text": [
      "+--------------+--------+------------------+----------+--------------+-----------------+------------+------------------+---------------+--------------+\n",
      "|Summons Number|Plate ID|Registration State|Issue Date|Violation Code|Vehicle Body Type|Vehicle Make|Violation Precinct|Issuer Precinct|Violation Time|\n",
      "+--------------+--------+------------------+----------+--------------+-----------------+------------+------------------+---------------+--------------+\n",
      "|5092469481    |GZH7067 |NY                |07/10/2016|7             |SUBN             |TOYOT       |0                 |0              |0143A         |\n",
      "|5092451658    |GZH7067 |NY                |07/08/2016|7             |SUBN             |TOYOT       |0                 |0              |0400P         |\n",
      "|4006265037    |FZX9232 |NY                |08/23/2016|5             |SUBN             |FORD        |0                 |0              |0233P         |\n",
      "|8478629828    |66623ME |NY                |06/14/2017|47            |REFG             |MITSU       |14                |14             |1120A         |\n",
      "|7868300310    |37033JV |NY                |11/21/2016|69            |DELV             |INTER       |13                |13             |0555P         |\n",
      "+--------------+--------+------------------+----------+--------------+-----------------+------------+------------------+---------------+--------------+\n",
      "only showing top 5 rows\n",
      "\n"
     ]
    }
   ],
   "source": [
    "df.show(5, False)"
   ]
  },
  {
   "cell_type": "markdown",
   "metadata": {},
   "source": [
    "##### Getting information about total columns of the Dataframe:"
   ]
  },
  {
   "cell_type": "code",
   "execution_count": 6,
   "metadata": {},
   "outputs": [
    {
     "data": {
      "text/plain": [
       "['Summons Number',\n",
       " 'Plate ID',\n",
       " 'Registration State',\n",
       " 'Issue Date',\n",
       " 'Violation Code',\n",
       " 'Vehicle Body Type',\n",
       " 'Vehicle Make',\n",
       " 'Violation Precinct',\n",
       " 'Issuer Precinct',\n",
       " 'Violation Time']"
      ]
     },
     "execution_count": 6,
     "metadata": {},
     "output_type": "execute_result"
    }
   ],
   "source": [
    "df.columns"
   ]
  },
  {
   "cell_type": "markdown",
   "metadata": {},
   "source": [
    "##### Checking total number of columns:"
   ]
  },
  {
   "cell_type": "code",
   "execution_count": 7,
   "metadata": {},
   "outputs": [
    {
     "data": {
      "text/plain": [
       "10"
      ]
     },
     "execution_count": 7,
     "metadata": {},
     "output_type": "execute_result"
    }
   ],
   "source": [
    "len(df.columns)"
   ]
  },
  {
   "cell_type": "markdown",
   "metadata": {},
   "source": [
    "So, there are 10 columns in the dataset in total."
   ]
  },
  {
   "cell_type": "markdown",
   "metadata": {},
   "source": [
    "##### Checking number of records:"
   ]
  },
  {
   "cell_type": "code",
   "execution_count": 8,
   "metadata": {},
   "outputs": [
    {
     "data": {
      "text/plain": [
       "10803028"
      ]
     },
     "execution_count": 8,
     "metadata": {},
     "output_type": "execute_result"
    }
   ],
   "source": [
    "df.count()"
   ]
  },
  {
   "cell_type": "markdown",
   "metadata": {},
   "source": [
    "##### Fetching schema of the dataframe:"
   ]
  },
  {
   "cell_type": "code",
   "execution_count": 9,
   "metadata": {},
   "outputs": [
    {
     "name": "stdout",
     "output_type": "stream",
     "text": [
      "root\n",
      " |-- Summons Number: long (nullable = true)\n",
      " |-- Plate ID: string (nullable = true)\n",
      " |-- Registration State: string (nullable = true)\n",
      " |-- Issue Date: string (nullable = true)\n",
      " |-- Violation Code: integer (nullable = true)\n",
      " |-- Vehicle Body Type: string (nullable = true)\n",
      " |-- Vehicle Make: string (nullable = true)\n",
      " |-- Violation Precinct: integer (nullable = true)\n",
      " |-- Issuer Precinct: integer (nullable = true)\n",
      " |-- Violation Time: string (nullable = true)\n",
      "\n"
     ]
    }
   ],
   "source": [
    "df.printSchema()"
   ]
  },
  {
   "cell_type": "markdown",
   "metadata": {},
   "source": [
    "We see that the column `Issue Date` is in string format. We'll change it to TimeStamp later."
   ]
  },
  {
   "cell_type": "markdown",
   "metadata": {},
   "source": [
    "##### Importing functions:"
   ]
  },
  {
   "cell_type": "code",
   "execution_count": 10,
   "metadata": {},
   "outputs": [],
   "source": [
    "from pyspark.sql.functions import *"
   ]
  },
  {
   "cell_type": "markdown",
   "metadata": {},
   "source": [
    "##### Checking Null Values in the dataframe:"
   ]
  },
  {
   "cell_type": "code",
   "execution_count": 11,
   "metadata": {},
   "outputs": [
    {
     "name": "stdout",
     "output_type": "stream",
     "text": [
      "+--------------+--------+------------------+----------+--------------+-----------------+------------+------------------+---------------+--------------+\n",
      "|Summons Number|Plate ID|Registration State|Issue Date|Violation Code|Vehicle Body Type|Vehicle Make|Violation Precinct|Issuer Precinct|Violation Time|\n",
      "+--------------+--------+------------------+----------+--------------+-----------------+------------+------------------+---------------+--------------+\n",
      "|             0|       1|                 0|         0|             0|            42696|       73047|                 0|              0|            63|\n",
      "+--------------+--------+------------------+----------+--------------+-----------------+------------+------------------+---------------+--------------+\n",
      "\n"
     ]
    }
   ],
   "source": [
    "df.select([count(when(isnan(c) | col(c).isNull(), True)).alias(c) for c in df.columns]).show()"
   ]
  },
  {
   "cell_type": "markdown",
   "metadata": {},
   "source": [
    "##### Checking some statistical information:"
   ]
  },
  {
   "cell_type": "code",
   "execution_count": 12,
   "metadata": {},
   "outputs": [
    {
     "data": {
      "text/html": [
       "<div>\n",
       "<style scoped>\n",
       "    .dataframe tbody tr th:only-of-type {\n",
       "        vertical-align: middle;\n",
       "    }\n",
       "\n",
       "    .dataframe tbody tr th {\n",
       "        vertical-align: top;\n",
       "    }\n",
       "\n",
       "    .dataframe thead th {\n",
       "        text-align: right;\n",
       "    }\n",
       "</style>\n",
       "<table border=\"1\" class=\"dataframe\">\n",
       "  <thead>\n",
       "    <tr style=\"text-align: right;\">\n",
       "      <th></th>\n",
       "      <th>summary</th>\n",
       "      <th>Summons Number</th>\n",
       "      <th>Plate ID</th>\n",
       "      <th>Registration State</th>\n",
       "      <th>Issue Date</th>\n",
       "      <th>Violation Code</th>\n",
       "      <th>Vehicle Body Type</th>\n",
       "      <th>Vehicle Make</th>\n",
       "      <th>Violation Precinct</th>\n",
       "      <th>Issuer Precinct</th>\n",
       "      <th>Violation Time</th>\n",
       "    </tr>\n",
       "  </thead>\n",
       "  <tbody>\n",
       "    <tr>\n",
       "      <th>0</th>\n",
       "      <td>count</td>\n",
       "      <td>10803028</td>\n",
       "      <td>10803027</td>\n",
       "      <td>10803028</td>\n",
       "      <td>10803028</td>\n",
       "      <td>10803028</td>\n",
       "      <td>10760333</td>\n",
       "      <td>10729981</td>\n",
       "      <td>10803028</td>\n",
       "      <td>10803028</td>\n",
       "      <td>10802965</td>\n",
       "    </tr>\n",
       "    <tr>\n",
       "      <th>1</th>\n",
       "      <td>mean</td>\n",
       "      <td>6.817447029065801E9</td>\n",
       "      <td>Infinity</td>\n",
       "      <td>99.0</td>\n",
       "      <td>None</td>\n",
       "      <td>34.599430455979565</td>\n",
       "      <td>NaN</td>\n",
       "      <td>6519.974025974026</td>\n",
       "      <td>45.01216260848347</td>\n",
       "      <td>46.82931211508477</td>\n",
       "      <td>909.2857142857143</td>\n",
       "    </tr>\n",
       "    <tr>\n",
       "      <th>2</th>\n",
       "      <td>stddev</td>\n",
       "      <td>2.3202339623282075E9</td>\n",
       "      <td>NaN</td>\n",
       "      <td>0.0</td>\n",
       "      <td>None</td>\n",
       "      <td>19.359868716323955</td>\n",
       "      <td>NaN</td>\n",
       "      <td>18091.257389147086</td>\n",
       "      <td>40.552560268436245</td>\n",
       "      <td>62.667035772695066</td>\n",
       "      <td>791.8453853409226</td>\n",
       "    </tr>\n",
       "    <tr>\n",
       "      <th>3</th>\n",
       "      <td>min</td>\n",
       "      <td>1002884949</td>\n",
       "      <td>#1MOM</td>\n",
       "      <td>99</td>\n",
       "      <td>01/01/2012</td>\n",
       "      <td>0</td>\n",
       "      <td>00</td>\n",
       "      <td>,FREI</td>\n",
       "      <td>0</td>\n",
       "      <td>0</td>\n",
       "      <td>.240P</td>\n",
       "    </tr>\n",
       "    <tr>\n",
       "      <th>4</th>\n",
       "      <td>max</td>\n",
       "      <td>8585600044</td>\n",
       "      <td>~</td>\n",
       "      <td>WY</td>\n",
       "      <td>12/31/2018</td>\n",
       "      <td>99</td>\n",
       "      <td>ZUHE</td>\n",
       "      <td>ken</td>\n",
       "      <td>933</td>\n",
       "      <td>997</td>\n",
       "      <td>8755P</td>\n",
       "    </tr>\n",
       "  </tbody>\n",
       "</table>\n",
       "</div>"
      ],
      "text/plain": [
       "  summary        Summons Number  Plate ID Registration State  Issue Date  \\\n",
       "0   count              10803028  10803027           10803028    10803028   \n",
       "1    mean   6.817447029065801E9  Infinity               99.0        None   \n",
       "2  stddev  2.3202339623282075E9       NaN                0.0        None   \n",
       "3     min            1002884949     #1MOM                 99  01/01/2012   \n",
       "4     max            8585600044         ~                 WY  12/31/2018   \n",
       "\n",
       "       Violation Code Vehicle Body Type        Vehicle Make  \\\n",
       "0            10803028          10760333            10729981   \n",
       "1  34.599430455979565               NaN   6519.974025974026   \n",
       "2  19.359868716323955               NaN  18091.257389147086   \n",
       "3                   0                00               ,FREI   \n",
       "4                  99              ZUHE                 ken   \n",
       "\n",
       "   Violation Precinct     Issuer Precinct     Violation Time  \n",
       "0            10803028            10803028           10802965  \n",
       "1   45.01216260848347   46.82931211508477  909.2857142857143  \n",
       "2  40.552560268436245  62.667035772695066  791.8453853409226  \n",
       "3                   0                   0              .240P  \n",
       "4                 933                 997              8755P  "
      ]
     },
     "execution_count": 12,
     "metadata": {},
     "output_type": "execute_result"
    }
   ],
   "source": [
    "df.describe().toPandas()"
   ]
  },
  {
   "cell_type": "markdown",
   "metadata": {},
   "source": [
    "##### Getting some more detailed statistical summary:"
   ]
  },
  {
   "cell_type": "code",
   "execution_count": 13,
   "metadata": {},
   "outputs": [],
   "source": [
    "#df.summary().toPandas()"
   ]
  },
  {
   "cell_type": "markdown",
   "metadata": {},
   "source": [
    "##### Modifying Column Names:\n",
    "Let's put the `_` between 2 words of the column names so that it would be easier to call the columns as a single word name."
   ]
  },
  {
   "cell_type": "code",
   "execution_count": 14,
   "metadata": {
    "scrolled": true
   },
   "outputs": [
    {
     "name": "stdout",
     "output_type": "stream",
     "text": [
      "+--------------+--------+------------------+----------+--------------+-----------------+------------+------------------+---------------+--------------+\n",
      "|Summons_Number|Plate_ID|Registration_State|Issue_Date|Violation_Code|Vehicle_Body_Type|Vehicle_Make|Violation_Precinct|Issuer_Precinct|Violation_Time|\n",
      "+--------------+--------+------------------+----------+--------------+-----------------+------------+------------------+---------------+--------------+\n",
      "|    5092469481| GZH7067|                NY|07/10/2016|             7|             SUBN|       TOYOT|                 0|              0|         0143A|\n",
      "|    5092451658| GZH7067|                NY|07/08/2016|             7|             SUBN|       TOYOT|                 0|              0|         0400P|\n",
      "|    4006265037| FZX9232|                NY|08/23/2016|             5|             SUBN|        FORD|                 0|              0|         0233P|\n",
      "|    8478629828| 66623ME|                NY|06/14/2017|            47|             REFG|       MITSU|                14|             14|         1120A|\n",
      "|    7868300310| 37033JV|                NY|11/21/2016|            69|             DELV|       INTER|                13|             13|         0555P|\n",
      "+--------------+--------+------------------+----------+--------------+-----------------+------------+------------------+---------------+--------------+\n",
      "only showing top 5 rows\n",
      "\n"
     ]
    }
   ],
   "source": [
    "df = df.toDF(*(c.replace(' ', '_') for c in df.columns))\n",
    "df.show(5)"
   ]
  },
  {
   "cell_type": "markdown",
   "metadata": {},
   "source": [
    "##### Changing the type of `Issue_Date` from 'String' to Timestamp:"
   ]
  },
  {
   "cell_type": "code",
   "execution_count": 15,
   "metadata": {
    "scrolled": true
   },
   "outputs": [
    {
     "name": "stdout",
     "output_type": "stream",
     "text": [
      "+--------------+--------+------------------+-------------------+--------------+-----------------+------------+------------------+---------------+--------------+\n",
      "|Summons_Number|Plate_ID|Registration_State|         Issue_Date|Violation_Code|Vehicle_Body_Type|Vehicle_Make|Violation_Precinct|Issuer_Precinct|Violation_Time|\n",
      "+--------------+--------+------------------+-------------------+--------------+-----------------+------------+------------------+---------------+--------------+\n",
      "|    5092469481| GZH7067|                NY|2016-07-10 00:00:00|             7|             SUBN|       TOYOT|                 0|              0|         0143A|\n",
      "|    5092451658| GZH7067|                NY|2016-07-08 00:00:00|             7|             SUBN|       TOYOT|                 0|              0|         0400P|\n",
      "|    4006265037| FZX9232|                NY|2016-08-23 00:00:00|             5|             SUBN|        FORD|                 0|              0|         0233P|\n",
      "|    8478629828| 66623ME|                NY|2017-06-14 00:00:00|            47|             REFG|       MITSU|                14|             14|         1120A|\n",
      "|    7868300310| 37033JV|                NY|2016-11-21 00:00:00|            69|             DELV|       INTER|                13|             13|         0555P|\n",
      "+--------------+--------+------------------+-------------------+--------------+-----------------+------------+------------------+---------------+--------------+\n",
      "only showing top 5 rows\n",
      "\n"
     ]
    }
   ],
   "source": [
    "df = df.withColumn('Issue_Date', unix_timestamp(df['Issue_Date'], 'MM/dd/yyyy').cast('timestamp'))\n",
    "df.show(5)"
   ]
  },
  {
   "cell_type": "markdown",
   "metadata": {},
   "source": [
    "##### Re-checking the schema now:"
   ]
  },
  {
   "cell_type": "code",
   "execution_count": 16,
   "metadata": {},
   "outputs": [
    {
     "name": "stdout",
     "output_type": "stream",
     "text": [
      "root\n",
      " |-- Summons_Number: long (nullable = true)\n",
      " |-- Plate_ID: string (nullable = true)\n",
      " |-- Registration_State: string (nullable = true)\n",
      " |-- Issue_Date: timestamp (nullable = true)\n",
      " |-- Violation_Code: integer (nullable = true)\n",
      " |-- Vehicle_Body_Type: string (nullable = true)\n",
      " |-- Vehicle_Make: string (nullable = true)\n",
      " |-- Violation_Precinct: integer (nullable = true)\n",
      " |-- Issuer_Precinct: integer (nullable = true)\n",
      " |-- Violation_Time: string (nullable = true)\n",
      "\n"
     ]
    }
   ],
   "source": [
    "df.printSchema()"
   ]
  },
  {
   "cell_type": "markdown",
   "metadata": {},
   "source": [
    "## EDA:\n",
    "I'll use pyspark.sql for further analysis:"
   ]
  },
  {
   "cell_type": "markdown",
   "metadata": {},
   "source": [
    "##### Creating a view `parkingtable`:"
   ]
  },
  {
   "cell_type": "code",
   "execution_count": 17,
   "metadata": {},
   "outputs": [],
   "source": [
    "df.createOrReplaceTempView('parkingTable')"
   ]
  },
  {
   "cell_type": "markdown",
   "metadata": {},
   "source": [
    "##### Checking the top 5 records:"
   ]
  },
  {
   "cell_type": "code",
   "execution_count": 18,
   "metadata": {},
   "outputs": [
    {
     "name": "stdout",
     "output_type": "stream",
     "text": [
      "+--------------+--------+------------------+-------------------+--------------+-----------------+------------+------------------+---------------+--------------+\n",
      "|Summons_Number|Plate_ID|Registration_State|         Issue_Date|Violation_Code|Vehicle_Body_Type|Vehicle_Make|Violation_Precinct|Issuer_Precinct|Violation_Time|\n",
      "+--------------+--------+------------------+-------------------+--------------+-----------------+------------+------------------+---------------+--------------+\n",
      "|    5092469481| GZH7067|                NY|2016-07-10 00:00:00|             7|             SUBN|       TOYOT|                 0|              0|         0143A|\n",
      "|    5092451658| GZH7067|                NY|2016-07-08 00:00:00|             7|             SUBN|       TOYOT|                 0|              0|         0400P|\n",
      "|    4006265037| FZX9232|                NY|2016-08-23 00:00:00|             5|             SUBN|        FORD|                 0|              0|         0233P|\n",
      "|    8478629828| 66623ME|                NY|2017-06-14 00:00:00|            47|             REFG|       MITSU|                14|             14|         1120A|\n",
      "|    7868300310| 37033JV|                NY|2016-11-21 00:00:00|            69|             DELV|       INTER|                13|             13|         0555P|\n",
      "+--------------+--------+------------------+-------------------+--------------+-----------------+------------+------------------+---------------+--------------+\n",
      "only showing top 5 rows\n",
      "\n"
     ]
    }
   ],
   "source": [
    "spark.sql(\"select * from parkingTable\").show(5)"
   ]
  },
  {
   "cell_type": "markdown",
   "metadata": {},
   "source": [
    "##### Checking year wise Violation Tickets counts:"
   ]
  },
  {
   "cell_type": "code",
   "execution_count": 19,
   "metadata": {
    "scrolled": false
   },
   "outputs": [
    {
     "name": "stdout",
     "output_type": "stream",
     "text": [
      "+----+-------+\n",
      "|Year|  Total|\n",
      "+----+-------+\n",
      "|1972|      2|\n",
      "|1973|      2|\n",
      "|1974|      1|\n",
      "|1976|      1|\n",
      "|1977|      1|\n",
      "|1984|      1|\n",
      "|1985|      1|\n",
      "|1990|      2|\n",
      "|1991|      3|\n",
      "|1994|      1|\n",
      "|1996|      1|\n",
      "|1997|      1|\n",
      "|2000|    185|\n",
      "|2001|      2|\n",
      "|2002|      1|\n",
      "|2003|      1|\n",
      "|2004|      2|\n",
      "|2005|      1|\n",
      "|2006|      8|\n",
      "|2007|     18|\n",
      "|2008|      4|\n",
      "|2009|      3|\n",
      "|2010|     48|\n",
      "|2011|     22|\n",
      "|2012|     87|\n",
      "|2013|     70|\n",
      "|2014|    120|\n",
      "|2015|    419|\n",
      "|2016|5368391|\n",
      "|2017|5431918|\n",
      "|2018|   1057|\n",
      "|2019|    472|\n",
      "|2020|     22|\n",
      "|2021|     22|\n",
      "|2022|      4|\n",
      "|2023|      5|\n",
      "|2024|      3|\n",
      "|2025|      6|\n",
      "|2026|     24|\n",
      "|2027|     50|\n",
      "|2028|      8|\n",
      "|2029|      2|\n",
      "|2030|     12|\n",
      "|2031|      5|\n",
      "|2033|      2|\n",
      "|2036|      1|\n",
      "|2041|      1|\n",
      "|2047|      2|\n",
      "|2053|      1|\n",
      "|2060|      2|\n",
      "|2061|      1|\n",
      "|2062|      2|\n",
      "|2063|      2|\n",
      "|2068|      1|\n",
      "|2069|      4|\n",
      "+----+-------+\n",
      "\n"
     ]
    }
   ],
   "source": [
    "spark.sql('select year(Issue_date) as Year, count(Summons_Number) as Total from Parkingtable group by Year order by Year').show(100)"
   ]
  },
  {
   "cell_type": "markdown",
   "metadata": {},
   "source": [
    " - We see that the data set is mainly centered around year 2016 and 2017.\n",
    " - The year 2017 has most number of records, so I'll go with 2017 for further analysis."
   ]
  },
  {
   "cell_type": "markdown",
   "metadata": {},
   "source": [
    "##### Let's filter  the data to keep the record of the year 2017 only:\n",
    "I'll use the this filtered record in this case study."
   ]
  },
  {
   "cell_type": "code",
   "execution_count": 20,
   "metadata": {},
   "outputs": [
    {
     "name": "stdout",
     "output_type": "stream",
     "text": [
      "+--------------+--------+------------------+-------------------+--------------+-----------------+------------+------------------+---------------+--------------+\n",
      "|Summons_Number|Plate_ID|Registration_State|         Issue_Date|Violation_Code|Vehicle_Body_Type|Vehicle_Make|Violation_Precinct|Issuer_Precinct|Violation_Time|\n",
      "+--------------+--------+------------------+-------------------+--------------+-----------------+------------+------------------+---------------+--------------+\n",
      "|    8478629828| 66623ME|                NY|2017-06-14 00:00:00|            47|             REFG|       MITSU|                14|             14|         1120A|\n",
      "|    5096917368| FZD8593|                NY|2017-06-13 00:00:00|             7|             SUBN|       ME/BE|                 0|              0|         0852P|\n",
      "|    1407740258| 2513JMG|                NY|2017-01-11 00:00:00|            78|             DELV|       FRUEH|               106|            106|         0015A|\n",
      "|    1413656420|T672371C|                NY|2017-02-04 00:00:00|            40|             TAXI|       TOYOT|                73|             73|         0525A|\n",
      "|    8480309064| 51771JW|                NY|2017-01-26 00:00:00|            64|              VAN|       INTER|                17|             17|         0256P|\n",
      "+--------------+--------+------------------+-------------------+--------------+-----------------+------------+------------------+---------------+--------------+\n",
      "only showing top 5 rows\n",
      "\n"
     ]
    }
   ],
   "source": [
    "parking = spark.sql(\"select * from parkingtable where year(Issue_Date) == 2017\")\n",
    "parking.show(5)"
   ]
  },
  {
   "cell_type": "markdown",
   "metadata": {},
   "source": [
    "##### Creating a temp view `nyc_table`:"
   ]
  },
  {
   "cell_type": "code",
   "execution_count": 21,
   "metadata": {},
   "outputs": [],
   "source": [
    "parking.createOrReplaceTempView('nyc_table')"
   ]
  },
  {
   "cell_type": "markdown",
   "metadata": {},
   "source": [
    "##### Checking month of the most violations:"
   ]
  },
  {
   "cell_type": "code",
   "execution_count": 22,
   "metadata": {},
   "outputs": [
    {
     "name": "stdout",
     "output_type": "stream",
     "text": [
      "+----+-----+---------+\n",
      "|year|Month|Frequency|\n",
      "+----+-----+---------+\n",
      "|2017|    5|  1020244|\n",
      "|2017|    3|   964737|\n",
      "|2017|    4|   888402|\n",
      "|2017|    1|   877365|\n",
      "|2017|    6|   852187|\n",
      "|2017|    2|   826967|\n",
      "|2017|    7|      370|\n",
      "|2017|    9|      367|\n",
      "|2017|   12|      358|\n",
      "|2017|   11|      338|\n",
      "|2017|    8|      309|\n",
      "|2017|   10|      274|\n",
      "+----+-----+---------+\n",
      "\n"
     ]
    }
   ],
   "source": [
    "violation = spark.sql(\"select year(Issue_Date) as year, month(Issue_Date) as Month, count(*) as Frequency from nyc_table group by Year, Month order by Frequency desc\")\n",
    "violation.show()"
   ]
  },
  {
   "cell_type": "markdown",
   "metadata": {},
   "source": [
    "##### Importing libraries for graphs:"
   ]
  },
  {
   "cell_type": "code",
   "execution_count": 23,
   "metadata": {},
   "outputs": [],
   "source": [
    "import matplotlib.pyplot as plt\n",
    "import seaborn as sns"
   ]
  },
  {
   "cell_type": "code",
   "execution_count": 24,
   "metadata": {
    "scrolled": false
   },
   "outputs": [
    {
     "data": {
      "image/png": "[encoded data removed]",
      "text/plain": [
       "<Figure size 432x288 with 1 Axes>"
      ]
     },
     "metadata": {
      "needs_background": "light"
     },
     "output_type": "display_data"
    }
   ],
   "source": [
    "violation_count = violation.toPandas()\n",
    "violation_count.plot(x= 'Month', y='Frequency', kind='bar')\n",
    "plt.title(\"Month Wise Violations\")\n",
    "plt.xlabel('Month')\n",
    "plt.ylabel('Ticket Frequency')\n",
    "plt.show()"
   ]
  },
  {
   "cell_type": "markdown",
   "metadata": {},
   "source": [
    "As per the above table and graph, we see that most number of violations occurred in below months:\n",
    " - May\n",
    " - March\n",
    " - April\n",
    " - January\n",
    " - June\n",
    " - February"
   ]
  },
  {
   "cell_type": "markdown",
   "metadata": {},
   "source": [
    "##### Checking violations made by number plate:"
   ]
  },
  {
   "cell_type": "code",
   "execution_count": 25,
   "metadata": {},
   "outputs": [
    {
     "name": "stdout",
     "output_type": "stream",
     "text": [
      "+----------+----------------+\n",
      "|  Plate_ID|Ticket_Frequency|\n",
      "+----------+----------------+\n",
      "|BLANKPLATE|            5261|\n",
      "|   96089MA|             529|\n",
      "|   96087MA|             528|\n",
      "|   94905JA|             527|\n",
      "|   14828MJ|             526|\n",
      "|   85848MD|             512|\n",
      "|   30954JX|             510|\n",
      "|   2121796|             507|\n",
      "+----------+----------------+\n",
      "\n"
     ]
    }
   ],
   "source": [
    "number_plate = spark.sql(\"select Plate_ID, count(*) as Ticket_Frequency from nyc_table group by Plate_ID having Ticket_Frequency >= 500 order by Ticket_Frequency desc\")\n",
    "number_plate.show()"
   ]
  },
  {
   "cell_type": "code",
   "execution_count": 26,
   "metadata": {},
   "outputs": [
    {
     "data": {
      "image/png": "[encoded data removed]",
      "text/plain": [
       "<Figure size 432x288 with 1 Axes>"
      ]
     },
     "metadata": {
      "needs_background": "light"
     },
     "output_type": "display_data"
    }
   ],
   "source": [
    "number_plate_violation = number_plate.toPandas()\n",
    "number_plate_violation.plot(x= 'Plate_ID', y='Ticket_Frequency', kind='bar')\n",
    "plt.title(\"Number Plate Wise Violations\")\n",
    "plt.xlabel('Number Plate')\n",
    "plt.ylabel('Ticket Frequency')\n",
    "plt.show()"
   ]
  },
  {
   "cell_type": "markdown",
   "metadata": {},
   "source": [
    "As per the above table and graph, most number of violations are made by the **Blank Number Plates**."
   ]
  },
  {
   "cell_type": "markdown",
   "metadata": {},
   "source": [
    "##### Checking Violation and their counts:"
   ]
  },
  {
   "cell_type": "code",
   "execution_count": 27,
   "metadata": {},
   "outputs": [
    {
     "name": "stdout",
     "output_type": "stream",
     "text": [
      "+--------------+----------------+\n",
      "|Violation_Code|Ticket_Frequency|\n",
      "+--------------+----------------+\n",
      "|            21|          768087|\n",
      "|            36|          662765|\n",
      "|            38|          542079|\n",
      "|            14|          476664|\n",
      "|            20|          319646|\n",
      "|            46|          312330|\n",
      "|            37|          293147|\n",
      "|            40|          277184|\n",
      "|            71|          263393|\n",
      "|             7|          210176|\n",
      "+--------------+----------------+\n",
      "\n"
     ]
    }
   ],
   "source": [
    "violation_code = spark.sql(\"select Violation_Code, count(*) as Ticket_Frequency from nyc_table group by Violation_Code order by Ticket_Frequency desc limit 10\")\n",
    "violation_code.show()"
   ]
  },
  {
   "cell_type": "code",
   "execution_count": 28,
   "metadata": {},
   "outputs": [
    {
     "data": {
      "image/png": "[encoded data removed]",
      "text/plain": [
       "<Figure size 432x288 with 1 Axes>"
      ]
     },
     "metadata": {
      "needs_background": "light"
     },
     "output_type": "display_data"
    }
   ],
   "source": [
    "violation_code_count = violation_code.toPandas()\n",
    "violation_code_count.plot(x= 'Violation_Code', y='Ticket_Frequency', kind='bar')\n",
    "plt.title(\"Violation Code Wise Violations\")\n",
    "plt.xlabel('Violation Code')\n",
    "plt.ylabel('Ticket Frequency')\n",
    "plt.show()"
   ]
  },
  {
   "cell_type": "markdown",
   "metadata": {},
   "source": [
    "As per the above table and plot, we see that below are the top 3 Violation Codes:\n",
    "- Violation Code 21\n",
    "- Violation Code 36\n",
    "- Violation Code 38"
   ]
  },
  {
   "cell_type": "markdown",
   "metadata": {},
   "source": [
    "## Examine the data:"
   ]
  },
  {
   "cell_type": "markdown",
   "metadata": {},
   "source": [
    "### 1. Find the total number of tickets for the year."
   ]
  },
  {
   "cell_type": "code",
   "execution_count": 29,
   "metadata": {},
   "outputs": [
    {
     "name": "stdout",
     "output_type": "stream",
     "text": [
      "+-------------+\n",
      "|Total_Tickets|\n",
      "+-------------+\n",
      "|      5431918|\n",
      "+-------------+\n",
      "\n"
     ]
    }
   ],
   "source": [
    "spark.sql(\"select count(*) as Total_Tickets from nyc_table\").show()"
   ]
  },
  {
   "cell_type": "markdown",
   "metadata": {},
   "source": [
    "So, there are total **5431918** parking violation tickets for the year 2017. It is a big number."
   ]
  },
  {
   "cell_type": "markdown",
   "metadata": {},
   "source": [
    "### 2. Find out the number of unique states from where the cars that got parking tickets came."
   ]
  },
  {
   "cell_type": "markdown",
   "metadata": {},
   "source": [
    "##### Let's print top few distinct records of the states:"
   ]
  },
  {
   "cell_type": "code",
   "execution_count": 30,
   "metadata": {},
   "outputs": [
    {
     "name": "stdout",
     "output_type": "stream",
     "text": [
      "+------------------+\n",
      "|Registration_State|\n",
      "+------------------+\n",
      "|                AZ|\n",
      "|                SC|\n",
      "|                NS|\n",
      "|                LA|\n",
      "|                MN|\n",
      "|                NJ|\n",
      "|                MX|\n",
      "|                DC|\n",
      "|                OR|\n",
      "|                99|\n",
      "|                NT|\n",
      "|                VA|\n",
      "|                RI|\n",
      "|                WY|\n",
      "|                KY|\n",
      "|                BC|\n",
      "|                NH|\n",
      "|                MI|\n",
      "|                GV|\n",
      "|                NV|\n",
      "+------------------+\n",
      "only showing top 20 rows\n",
      "\n"
     ]
    }
   ],
   "source": [
    "df.select('Registration_State').distinct().show()"
   ]
  },
  {
   "cell_type": "markdown",
   "metadata": {},
   "source": [
    "We can see that there is record with value `99` in the state column which is not a valid value.\n",
    "<br>Let's replace this value with the name of the state which occurred most of the time."
   ]
  },
  {
   "cell_type": "markdown",
   "metadata": {},
   "source": [
    "##### Checking States where most violations occurred:"
   ]
  },
  {
   "cell_type": "code",
   "execution_count": 31,
   "metadata": {},
   "outputs": [
    {
     "name": "stdout",
     "output_type": "stream",
     "text": [
      "+------------------+----------------+\n",
      "|Registration_State|Ticket_Frequency|\n",
      "+------------------+----------------+\n",
      "|                NY|         4273951|\n",
      "|                NJ|          475825|\n",
      "|                PA|          140286|\n",
      "|                CT|           70403|\n",
      "|                FL|           69468|\n",
      "+------------------+----------------+\n",
      "\n"
     ]
    }
   ],
   "source": [
    "states = spark.sql(\"select Registration_State, count(*) as Ticket_Frequency from nyc_table group by Registration_State order by Ticket_Frequency desc limit 5\")\n",
    "states.show()"
   ]
  },
  {
   "cell_type": "code",
   "execution_count": 32,
   "metadata": {},
   "outputs": [
    {
     "data": {
      "image/png": "[encoded data removed]",
      "text/plain": [
       "<Figure size 432x432 with 1 Axes>"
      ]
     },
     "metadata": {
      "needs_background": "light"
     },
     "output_type": "display_data"
    }
   ],
   "source": [
    "state_count = states.toPandas()\n",
    "state_count.plot(x= 'Registration_State', y='Ticket_Frequency', kind='bar', figsize=(6,6))\n",
    "plt.title(\"State Wise Violations\")\n",
    "plt.xlabel('Registration State')\n",
    "plt.ylabel('Ticket Frequency')\n",
    "plt.show()"
   ]
  },
  {
   "cell_type": "markdown",
   "metadata": {},
   "source": [
    "As per the above data, below 3 states have most violation tickets:\n",
    "- Ney York\n",
    "- New Jersey\n",
    "- Pennsylvania"
   ]
  },
  {
   "cell_type": "markdown",
   "metadata": {},
   "source": [
    "##### Replacing `99` with `NY`:"
   ]
  },
  {
   "cell_type": "code",
   "execution_count": 33,
   "metadata": {},
   "outputs": [],
   "source": [
    "df = df.withColumn('Registration_State', when(col('Registration_State') == '99', 'NY').otherwise(col('Registration_State')))"
   ]
  },
  {
   "cell_type": "code",
   "execution_count": 34,
   "metadata": {},
   "outputs": [
    {
     "name": "stdout",
     "output_type": "stream",
     "text": [
      "+------------------+\n",
      "|Registration_State|\n",
      "+------------------+\n",
      "|                AZ|\n",
      "|                SC|\n",
      "|                NS|\n",
      "|                LA|\n",
      "|                MN|\n",
      "|                NJ|\n",
      "|                MX|\n",
      "|                DC|\n",
      "|                OR|\n",
      "|                NT|\n",
      "|                VA|\n",
      "|                RI|\n",
      "|                WY|\n",
      "|                KY|\n",
      "|                BC|\n",
      "|                NH|\n",
      "|                MI|\n",
      "|                GV|\n",
      "|                NV|\n",
      "|                QB|\n",
      "+------------------+\n",
      "only showing top 20 rows\n",
      "\n"
     ]
    }
   ],
   "source": [
    "df.select('Registration_State').distinct().show()"
   ]
  },
  {
   "cell_type": "markdown",
   "metadata": {},
   "source": [
    "## Aggregation tasks:"
   ]
  },
  {
   "cell_type": "markdown",
   "metadata": {},
   "source": [
    "### 1. How often does each violation code occur? Display the frequency of the top five violation codes?"
   ]
  },
  {
   "cell_type": "code",
   "execution_count": 35,
   "metadata": {},
   "outputs": [
    {
     "name": "stdout",
     "output_type": "stream",
     "text": [
      "+--------------+---------+\n",
      "|Violation_Code|Frequency|\n",
      "+--------------+---------+\n",
      "|            21|   768087|\n",
      "|            36|   662765|\n",
      "|            38|   542079|\n",
      "|            14|   476664|\n",
      "|            20|   319646|\n",
      "+--------------+---------+\n",
      "only showing top 5 rows\n",
      "\n"
     ]
    }
   ],
   "source": [
    "violation = spark.sql(\"select Violation_Code, count(*) as Frequency from nyc_table group by Violation_Code order by Frequency desc\")\n",
    "violation.show(5)"
   ]
  },
  {
   "cell_type": "markdown",
   "metadata": {},
   "source": [
    "Top 5 Violation Codes are 21, 36, 38, 14 and 20."
   ]
  },
  {
   "cell_type": "markdown",
   "metadata": {},
   "source": [
    "### 2. How often does each 'vehicle body type' get a parking ticket? How about the 'vehicle make'? "
   ]
  },
  {
   "cell_type": "markdown",
   "metadata": {},
   "source": [
    "##### Grouping the data on the column \"Vehicle_Body_Type\" and calculate the aggregating count:"
   ]
  },
  {
   "cell_type": "code",
   "execution_count": 36,
   "metadata": {},
   "outputs": [
    {
     "name": "stdout",
     "output_type": "stream",
     "text": [
      "+-----------------+----------------------------------+\n",
      "|Vehicle_Body_Type|Ticket Count for Vehicle Body Type|\n",
      "+-----------------+----------------------------------+\n",
      "|             SUBN|                           1883954|\n",
      "|             4DSD|                           1547312|\n",
      "|              VAN|                            724029|\n",
      "|             DELV|                            358984|\n",
      "|              SDN|                            194197|\n",
      "|             PICK|                            135772|\n",
      "|             2DSD|                            135707|\n",
      "|             REFG|                             59641|\n",
      "|             TRAC|                             40030|\n",
      "|             TAXI|                             32608|\n",
      "|             UTIL|                             31135|\n",
      "|              BUS|                             24749|\n",
      "|             4 DR|                             24153|\n",
      "|             CONV|                             22064|\n",
      "|             null|                             20196|\n",
      "|             WAGO|                             17465|\n",
      "|               4D|                             16647|\n",
      "|             TRLR|                             14281|\n",
      "|              MCY|                             12838|\n",
      "|               TK|                             11386|\n",
      "+-----------------+----------------------------------+\n",
      "only showing top 20 rows\n",
      "\n"
     ]
    }
   ],
   "source": [
    "body_type = spark.sql(\"select Vehicle_Body_Type, count(*) as `Ticket Count for Vehicle Body Type` from nyc_table group by Vehicle_Body_Type order by `Ticket Count for Vehicle Body Type` desc\")\n",
    "body_type.show()"
   ]
  },
  {
   "cell_type": "markdown",
   "metadata": {},
   "source": [
    "As per the above data, below are the top 5 Vehicle Body Types which made most violations:\n",
    "- SUBN\n",
    "- 4DSD\n",
    "- VAN\n",
    "- DELV\n",
    "- SDN"
   ]
  },
  {
   "cell_type": "markdown",
   "metadata": {},
   "source": [
    "##### Grouping the data on the column \"Vehicle_Make\" and calculate the aggregating count:"
   ]
  },
  {
   "cell_type": "code",
   "execution_count": 37,
   "metadata": {},
   "outputs": [
    {
     "name": "stdout",
     "output_type": "stream",
     "text": [
      "+------------+-----------------------------+\n",
      "|Vehicle_Make|Ticket Count for Vehicle make|\n",
      "+------------+-----------------------------+\n",
      "|        FORD|                       636844|\n",
      "|       TOYOT|                       605291|\n",
      "|       HONDA|                       538884|\n",
      "|       NISSA|                       462017|\n",
      "|       CHEVR|                       356032|\n",
      "|       FRUEH|                       230787|\n",
      "|       ME/BE|                       197568|\n",
      "|       DODGE|                       187729|\n",
      "|         BMW|                       186700|\n",
      "|        JEEP|                       175815|\n",
      "|       HYUND|                       148657|\n",
      "|       INTER|                       128737|\n",
      "|         GMC|                       127581|\n",
      "|       LEXUS|                       122078|\n",
      "|       ACURA|                       100637|\n",
      "|       INFIN|                        88572|\n",
      "|       CHRYS|                        85573|\n",
      "|       VOLKS|                        85051|\n",
      "|       SUBAR|                        71791|\n",
      "|        AUDI|                        68854|\n",
      "+------------+-----------------------------+\n",
      "only showing top 20 rows\n",
      "\n"
     ]
    }
   ],
   "source": [
    "make = spark.sql(\"select Vehicle_Make, count(*) as `Ticket Count for Vehicle make` from nyc_table group by Vehicle_Make order by `Ticket Count for Vehicle make` desc\")\n",
    "make.show()"
   ]
  },
  {
   "cell_type": "markdown",
   "metadata": {},
   "source": [
    "As per the above data, below are the top 5 Vehicle Make companies which made most violations:\n",
    "- FORD\n",
    "- TOYOTA\n",
    "- HONDA\n",
    "- NISSAN\n",
    "- CHEVROLET "
   ]
  },
  {
   "cell_type": "markdown",
   "metadata": {},
   "source": [
    "### 3. A precinct is a police station that has a certain zone of the city under its command. Find the (5 highest) frequencies of tickets for each of the following:"
   ]
  },
  {
   "cell_type": "markdown",
   "metadata": {},
   "source": [
    "#### (i). 'Violation Precinct' (This is the precinct of the zone where the violation occurred). Using this, can you draw any insights for parking violations in any specific areas of the city?"
   ]
  },
  {
   "cell_type": "code",
   "execution_count": 38,
   "metadata": {},
   "outputs": [
    {
     "name": "stdout",
     "output_type": "stream",
     "text": [
      "+------------------+-------------------------+\n",
      "|Violation_Precinct|Ticket Count for Precinct|\n",
      "+------------------+-------------------------+\n",
      "|                 0|                   925596|\n",
      "|                19|                   274445|\n",
      "|                14|                   203553|\n",
      "|                 1|                   174702|\n",
      "|                18|                   169131|\n",
      "|               114|                   147444|\n",
      "+------------------+-------------------------+\n",
      "only showing top 6 rows\n",
      "\n"
     ]
    }
   ],
   "source": [
    "spark.sql(\"select Violation_Precinct, count(*) as `Ticket Count for Precinct` \\\n",
    "          from nyc_table \\\n",
    "          group by Violation_Precinct \\\n",
    "          order by `Ticket Count for Precinct` desc\").show(6)"
   ]
  },
  {
   "cell_type": "markdown",
   "metadata": {},
   "source": [
    "#### (ii) 'Issuer Precinct' (This is the precinct that issued the ticket.)"
   ]
  },
  {
   "cell_type": "code",
   "execution_count": 39,
   "metadata": {},
   "outputs": [
    {
     "name": "stdout",
     "output_type": "stream",
     "text": [
      "+---------------+--------------------------------+\n",
      "|Issuer_Precinct|Ticket Count for Precinct Issuer|\n",
      "+---------------+--------------------------------+\n",
      "|              0|                         1078406|\n",
      "|             19|                          266961|\n",
      "|             14|                          200495|\n",
      "|              1|                          168740|\n",
      "|             18|                          162994|\n",
      "|            114|                          144054|\n",
      "+---------------+--------------------------------+\n",
      "only showing top 6 rows\n",
      "\n"
     ]
    }
   ],
   "source": [
    "spark.sql(\"select Issuer_Precinct, count(*) as `Ticket Count for Precinct Issuer` \\\n",
    "          from nyc_table \\\n",
    "          group by Issuer_Precinct \\\n",
    "          order by `Ticket Count for Precinct Issuer` desc\").show(6)"
   ]
  },
  {
   "cell_type": "markdown",
   "metadata": {},
   "source": [
    "#### Analysis:\n",
    "- We see that first record of both the query results is 0. Hence, we displayed the top 6 records.\n",
    "- As per the above both the tables, precincts 19, 14, 1, 18 amd 114 are common. However, violations are highest for `19`."
   ]
  },
  {
   "cell_type": "markdown",
   "metadata": {},
   "source": [
    "#### 4. Find the violation code frequencies for three precincts that have issued the most number of tickets. Do these precinct zones have an exceptionally high frequency of certain violation codes? Are these codes common across precincts?"
   ]
  },
  {
   "cell_type": "markdown",
   "metadata": {},
   "source": [
    "From the above answer, it is noted that Top 3 Violation Precints are 14, 19 and 1. Let's calculate the Ticket counts foreach precincts using Group By:"
   ]
  },
  {
   "cell_type": "markdown",
   "metadata": {},
   "source": [
    "##### Violation Codes count for Precincts 19:"
   ]
  },
  {
   "cell_type": "code",
   "execution_count": 40,
   "metadata": {},
   "outputs": [
    {
     "name": "stdout",
     "output_type": "stream",
     "text": [
      "+--------------+---------------------------------+\n",
      "|Violation_Code|Ticket Count for Precinct Zone 19|\n",
      "+--------------+---------------------------------+\n",
      "|            46|                            50785|\n",
      "|            38|                            37483|\n",
      "|            37|                            36468|\n",
      "|            14|                            30376|\n",
      "|            21|                            29415|\n",
      "|            20|                            15132|\n",
      "|            40|                            11519|\n",
      "|            16|                            10006|\n",
      "|            71|                             7567|\n",
      "|            19|                             7066|\n",
      "+--------------+---------------------------------+\n",
      "\n"
     ]
    }
   ],
   "source": [
    "spark.sql(\"select Violation_Code, count(*) as `Ticket Count for Precinct Zone 19` \\\n",
    "          from nyc_table \\\n",
    "          where Violation_Precinct = 19 \\\n",
    "          group by Violation_Code \\\n",
    "          order by `Ticket Count for Precinct Zone 19` desc limit 10\").show()"
   ]
  },
  {
   "cell_type": "markdown",
   "metadata": {},
   "source": [
    "##### Violation Codes count for Precincts 14:"
   ]
  },
  {
   "cell_type": "code",
   "execution_count": 41,
   "metadata": {},
   "outputs": [
    {
     "name": "stdout",
     "output_type": "stream",
     "text": [
      "+--------------+---------------------------------+\n",
      "|Violation_Code|Ticket Count for Precinct Zone 14|\n",
      "+--------------+---------------------------------+\n",
      "|            14|                            45885|\n",
      "|            69|                            30465|\n",
      "|            31|                            22649|\n",
      "|            47|                            18691|\n",
      "|            42|                            10027|\n",
      "|            46|                             8411|\n",
      "|            19|                             7455|\n",
      "|            84|                             6749|\n",
      "|            82|                             5052|\n",
      "|            40|                             3654|\n",
      "+--------------+---------------------------------+\n",
      "\n"
     ]
    }
   ],
   "source": [
    "spark.sql(\"select Violation_Code, count(*) as `Ticket Count for Precinct Zone 14` \\\n",
    "          from nyc_table \\\n",
    "          where Violation_Precinct = 14 \\\n",
    "          group by Violation_Code \\\n",
    "          order by `Ticket Count for Precinct Zone 14` desc limit 10\").show()"
   ]
  },
  {
   "cell_type": "markdown",
   "metadata": {},
   "source": [
    "##### Violation Codes count for Precincts 1:"
   ]
  },
  {
   "cell_type": "code",
   "execution_count": 42,
   "metadata": {},
   "outputs": [
    {
     "name": "stdout",
     "output_type": "stream",
     "text": [
      "+--------------+--------------------------------+\n",
      "|Violation_Code|Ticket Count for Precinct Zone 1|\n",
      "+--------------+--------------------------------+\n",
      "|            14|                           40226|\n",
      "|            16|                           19278|\n",
      "|            20|                           15743|\n",
      "|            46|                           13534|\n",
      "|            38|                            8588|\n",
      "|            17|                            7755|\n",
      "|            37|                            6484|\n",
      "|            19|                            6184|\n",
      "|            31|                            6064|\n",
      "|            69|                            5682|\n",
      "+--------------+--------------------------------+\n",
      "\n"
     ]
    }
   ],
   "source": [
    "spark.sql(\"select Violation_Code, count(*) as `Ticket Count for Precinct Zone 1` \\\n",
    "          from nyc_table \\\n",
    "          where Violation_Precinct = 1 \\\n",
    "          group by Violation_Code \\\n",
    "          order by `Ticket Count for Precinct Zone 1` desc limit 10\").show()"
   ]
  },
  {
   "cell_type": "markdown",
   "metadata": {},
   "source": [
    "#### Analysis:\n",
    "- There are many Violation codes are common for all the 3 precincts.\n",
    "- The Violation Code `14` is the one which is common in all with highest violation tickets."
   ]
  },
  {
   "cell_type": "markdown",
   "metadata": {},
   "source": [
    "### 5. Find out the properties of parking violations across different times of the day:"
   ]
  },
  {
   "cell_type": "markdown",
   "metadata": {},
   "source": [
    "#### (i) Find a way to deal with missing values, if any:"
   ]
  },
  {
   "cell_type": "markdown",
   "metadata": {},
   "source": [
    "##### Checking Null Values in the dataframe using pyspark.sql:"
   ]
  },
  {
   "cell_type": "code",
   "execution_count": 43,
   "metadata": {},
   "outputs": [
    {
     "name": "stdout",
     "output_type": "stream",
     "text": [
      "+----------+\n",
      "|Total Null|\n",
      "+----------+\n",
      "|     52748|\n",
      "+----------+\n",
      "\n"
     ]
    }
   ],
   "source": [
    "null_count = spark.sql(\"select count(*) as `Total Null` \\\n",
    "                       from nyc_table \\\n",
    "                       where Summons_Number is null \\\n",
    "                       or Plate_ID is null \\\n",
    "                       or Registration_State is null \\\n",
    "                       or Issue_Date is null \\\n",
    "                       or Violation_Code is null \\\n",
    "                       or Vehicle_Body_Type is null \\\n",
    "                       or Vehicle_Make is null \\\n",
    "                       or Violation_Precinct is null \\\n",
    "                       or Issuer_Precinct is null \\\n",
    "                       or Violation_Time is null\")\n",
    "null_count.show()"
   ]
  },
  {
   "cell_type": "markdown",
   "metadata": {},
   "source": [
    "There are total **52748** Null Values. Lets' handle this."
   ]
  },
  {
   "cell_type": "markdown",
   "metadata": {},
   "source": [
    "##### Dropping Null Values:"
   ]
  },
  {
   "cell_type": "code",
   "execution_count": 44,
   "metadata": {},
   "outputs": [],
   "source": [
    "df = df.na.drop()"
   ]
  },
  {
   "cell_type": "markdown",
   "metadata": {},
   "source": [
    "##### Creataing a view on this clean dataframe:"
   ]
  },
  {
   "cell_type": "code",
   "execution_count": 45,
   "metadata": {},
   "outputs": [],
   "source": [
    "df.createOrReplaceTempView('nyc_table')"
   ]
  },
  {
   "cell_type": "markdown",
   "metadata": {},
   "source": [
    "##### Again calculating the Null Values in complete dataframe:"
   ]
  },
  {
   "cell_type": "code",
   "execution_count": 46,
   "metadata": {},
   "outputs": [
    {
     "name": "stdout",
     "output_type": "stream",
     "text": [
      "+----------+\n",
      "|Total Null|\n",
      "+----------+\n",
      "|         0|\n",
      "+----------+\n",
      "\n"
     ]
    }
   ],
   "source": [
    "null_count = spark.sql(\"select count(*) as `Total Null` \\\n",
    "                       from nyc_table \\\n",
    "                       where Summons_Number is null \\\n",
    "                       or Plate_ID is null \\\n",
    "                       or Registration_State is null \\\n",
    "                       or Issue_Date is null \\\n",
    "                       or Violation_Code is null \\\n",
    "                       or Vehicle_Body_Type is null \\\n",
    "                       or Vehicle_Make is null \\\n",
    "                       or Violation_Precinct is null \\\n",
    "                       or Issuer_Precinct is null \\\n",
    "                       or Violation_Time is null\")\n",
    "null_count.show()"
   ]
  },
  {
   "cell_type": "markdown",
   "metadata": {},
   "source": [
    "Now, there is **0** null value."
   ]
  },
  {
   "cell_type": "markdown",
   "metadata": {},
   "source": [
    "#### (ii) The Violation Time field is specified in a strange format. Find a way to make this a time attribute that you can use to divide into groups."
   ]
  },
  {
   "cell_type": "markdown",
   "metadata": {},
   "source": [
    "Let's first display the Violation_Time column to get an idea about its format:"
   ]
  },
  {
   "cell_type": "code",
   "execution_count": 47,
   "metadata": {
    "scrolled": false
   },
   "outputs": [
    {
     "name": "stdout",
     "output_type": "stream",
     "text": [
      "+--------------+-----------------------+\n",
      "|Violation_Time|Total Parking Violation|\n",
      "+--------------+-----------------------+\n",
      "|         0836A|                  28282|\n",
      "|         1136A|                  26805|\n",
      "|         1140A|                  26757|\n",
      "|         0936A|                  25105|\n",
      "|         0840A|                  24920|\n",
      "|         0940A|                  24885|\n",
      "|         0906A|                  24729|\n",
      "|         1145A|                  24087|\n",
      "|         0945A|                  23912|\n",
      "|         1138A|                  23597|\n",
      "|         0845A|                  23532|\n",
      "|         1142A|                  23463|\n",
      "|         0910A|                  23426|\n",
      "|         1139A|                  23246|\n",
      "|         0806A|                  23044|\n",
      "|         1137A|                  23006|\n",
      "|         0839A|                  22937|\n",
      "|         1141A|                  22909|\n",
      "|         0837A|                  22900|\n",
      "|         0938A|                  22896|\n",
      "+--------------+-----------------------+\n",
      "only showing top 20 rows\n",
      "\n"
     ]
    }
   ],
   "source": [
    "spark.sql(\"select Violation_Time, count(*) as `Total Parking Violation` \\\n",
    "          from nyc_table \\\n",
    "          group by Violation_Time \\\n",
    "          order by `Total Parking Violation` desc\").show()"
   ]
  },
  {
   "cell_type": "markdown",
   "metadata": {},
   "source": [
    "##### Validating the value of `Vioaltion_Time` with `RegEx` expression using `rlike` function:\n",
    "Creating one boolean column `Acceptable` and setting a criteria for valid time: "
   ]
  },
  {
   "cell_type": "code",
   "execution_count": 48,
   "metadata": {
    "scrolled": false
   },
   "outputs": [
    {
     "name": "stdout",
     "output_type": "stream",
     "text": [
      "+--------------+----------+\n",
      "|Violation_Time|Acceptable|\n",
      "+--------------+----------+\n",
      "|         4733P|     false|\n",
      "|         084/A|     false|\n",
      "|         2959P|     false|\n",
      "|         6815P|     false|\n",
      "|         0.22A|     false|\n",
      "|          1237|     false|\n",
      "|          0557|     false|\n",
      "|         110+A|     false|\n",
      "|         093+A|     false|\n",
      "|         8715P|     false|\n",
      "|         4930P|     false|\n",
      "|         5402P|     false|\n",
      "|          1047|     false|\n",
      "|          0855|     false|\n",
      "|         5857P|     false|\n",
      "|         075/P|     false|\n",
      "|         6820P|     false|\n",
      "|         09.5A|     false|\n",
      "|         3028P|     false|\n",
      "|          1145|     false|\n",
      "+--------------+----------+\n",
      "only showing top 20 rows\n",
      "\n"
     ]
    }
   ],
   "source": [
    "df.select('Violation_Time', col('Violation_Time').rlike('^[01][0-9]{3}[AP]$').alias('Acceptable')).filter(col('Acceptable') == 'false').show()"
   ]
  },
  {
   "cell_type": "markdown",
   "metadata": {},
   "source": [
    "We can see that above time format is really weird. We'll handle the discrepancy soon.\n"
   ]
  },
  {
   "cell_type": "markdown",
   "metadata": {},
   "source": [
    "##### Checking total number of such records where violation time does not match the criteria:"
   ]
  },
  {
   "cell_type": "code",
   "execution_count": 49,
   "metadata": {},
   "outputs": [
    {
     "data": {
      "text/plain": [
       "158"
      ]
     },
     "execution_count": 49,
     "metadata": {},
     "output_type": "execute_result"
    }
   ],
   "source": [
    "df.select('Violation_Time', col('Violation_Time').rlike('^[01][0-9]{3}[AP]$').alias('Acceptable')).filter(col('Acceptable') == 'false').count()"
   ]
  },
  {
   "cell_type": "markdown",
   "metadata": {},
   "source": [
    "So, there are total **158** records are not in proper time criteria."
   ]
  },
  {
   "cell_type": "markdown",
   "metadata": {},
   "source": [
    "##### Creating the column 'Acceptable'  and saving the dataframe in a new dataframe:"
   ]
  },
  {
   "cell_type": "code",
   "execution_count": 50,
   "metadata": {},
   "outputs": [
    {
     "name": "stdout",
     "output_type": "stream",
     "text": [
      "+--------------+--------+------------------+-------------------+--------------+-----------------+------------+------------------+---------------+--------------+----------+\n",
      "|Summons_Number|Plate_ID|Registration_State|         Issue_Date|Violation_Code|Vehicle_Body_Type|Vehicle_Make|Violation_Precinct|Issuer_Precinct|Violation_Time|Acceptable|\n",
      "+--------------+--------+------------------+-------------------+--------------+-----------------+------------+------------------+---------------+--------------+----------+\n",
      "|    5092469481| GZH7067|                NY|2016-07-10 00:00:00|             7|             SUBN|       TOYOT|                 0|              0|         0143A|      true|\n",
      "|    5092451658| GZH7067|                NY|2016-07-08 00:00:00|             7|             SUBN|       TOYOT|                 0|              0|         0400P|      true|\n",
      "|    4006265037| FZX9232|                NY|2016-08-23 00:00:00|             5|             SUBN|        FORD|                 0|              0|         0233P|      true|\n",
      "|    8478629828| 66623ME|                NY|2017-06-14 00:00:00|            47|             REFG|       MITSU|                14|             14|         1120A|      true|\n",
      "|    7868300310| 37033JV|                NY|2016-11-21 00:00:00|            69|             DELV|       INTER|                13|             13|         0555P|      true|\n",
      "+--------------+--------+------------------+-------------------+--------------+-----------------+------------+------------------+---------------+--------------+----------+\n",
      "only showing top 5 rows\n",
      "\n"
     ]
    }
   ],
   "source": [
    "df1 = df.withColumn('Acceptable', col('Violation_Time').rlike('^[01][0-9]{3}[AP]$'))\n",
    "df1.show(5)"
   ]
  },
  {
   "cell_type": "markdown",
   "metadata": {},
   "source": [
    "Now, we have an option to drop these 158 records which don't have proper format. However, instead of doing that let's replace these values with a general value `0000A`."
   ]
  },
  {
   "cell_type": "markdown",
   "metadata": {},
   "source": [
    "##### Creating a new DF which takes values as per the mentioned criteria:"
   ]
  },
  {
   "cell_type": "code",
   "execution_count": 51,
   "metadata": {},
   "outputs": [],
   "source": [
    "df2 = df1.withColumn('Violation_Time', when(col('Acceptable') == 'false', lit('0000A')).otherwise(df1.Violation_Time))"
   ]
  },
  {
   "cell_type": "markdown",
   "metadata": {},
   "source": [
    "##### Let's see the effect of imputation of the time format:"
   ]
  },
  {
   "cell_type": "code",
   "execution_count": 52,
   "metadata": {
    "scrolled": false
   },
   "outputs": [
    {
     "name": "stdout",
     "output_type": "stream",
     "text": [
      "+--------------+----------+\n",
      "|Violation_Time|Acceptable|\n",
      "+--------------+----------+\n",
      "|         0000A|     false|\n",
      "|         0000A|     false|\n",
      "|         0000A|     false|\n",
      "|         0000A|     false|\n",
      "|         0000A|     false|\n",
      "|         0000A|     false|\n",
      "|         0000A|     false|\n",
      "|         0000A|     false|\n",
      "|         0000A|     false|\n",
      "|         0000A|     false|\n",
      "|         0000A|     false|\n",
      "|         0000A|     false|\n",
      "|         0000A|     false|\n",
      "|         0000A|     false|\n",
      "|         0000A|     false|\n",
      "|         0000A|     false|\n",
      "|         0000A|     false|\n",
      "|         0000A|     false|\n",
      "|         0000A|     false|\n",
      "|         0000A|     false|\n",
      "+--------------+----------+\n",
      "only showing top 20 rows\n",
      "\n"
     ]
    }
   ],
   "source": [
    "df2.select('Violation_Time', 'Acceptable').filter(col('Acceptable') == 'false').show()"
   ]
  },
  {
   "cell_type": "markdown",
   "metadata": {},
   "source": [
    "We see that all the 'false' values got repalced by **0000A** now."
   ]
  },
  {
   "cell_type": "markdown",
   "metadata": {},
   "source": [
    "##### Re-checking the Violation_Time and Acceptable colums which are not in mentioned criteria:"
   ]
  },
  {
   "cell_type": "code",
   "execution_count": 53,
   "metadata": {
    "scrolled": true
   },
   "outputs": [
    {
     "name": "stdout",
     "output_type": "stream",
     "text": [
      "+--------------+----------+\n",
      "|Violation_Time|Acceptable|\n",
      "+--------------+----------+\n",
      "+--------------+----------+\n",
      "\n"
     ]
    },
    {
     "data": {
      "text/plain": [
       "0"
      ]
     },
     "execution_count": 53,
     "metadata": {},
     "output_type": "execute_result"
    }
   ],
   "source": [
    "df2.select('Violation_Time', col('Violation_Time').rlike('^[01][0-9]{3}[AP]$').alias('Acceptable')).filter(col('Acceptable') == 'false').show()\n",
    "df2.select('Violation_Time', col('Violation_Time').rlike('^[01][0-9]{3}[AP]$').alias('Acceptable')).filter(col('Acceptable') == 'false').count()"
   ]
  },
  {
   "cell_type": "markdown",
   "metadata": {},
   "source": [
    "We see that the count is 0 now. It means, all the values of the column \"Violation_Time\" are in proper criteria.\n",
    "<br>However, these timings are still not in any clock format. Let's convert these in proper format using **User Defined Function (UDF)**."
   ]
  },
  {
   "cell_type": "markdown",
   "metadata": {},
   "source": [
    "##### Importing StringType and UDF libraries:"
   ]
  },
  {
   "cell_type": "code",
   "execution_count": 54,
   "metadata": {},
   "outputs": [],
   "source": [
    "from pyspark.sql.types import StringType\n",
    "from pyspark.sql.functions import udf"
   ]
  },
  {
   "cell_type": "markdown",
   "metadata": {},
   "source": [
    "##### Creating 2 UDF functions `convert_udf1` and `convert_udf2`. Below are the description of both:\n",
    "- **convert_udf1:** Separates hour, minute and second. Also, converts the time in **24 Hour format**.\n",
    "- **convert_udf2:** If there is a value as **24** in hour part, converts it to **00**."
   ]
  },
  {
   "cell_type": "code",
   "execution_count": 55,
   "metadata": {},
   "outputs": [],
   "source": [
    "convert_udf1 = udf(lambda x : x[0:2] + ':' + x[2:4] + ':' + '00' if x[-1] == 'A' or int(x[0:2]) in range(13, 25) else str(int(x[0:2]) +12) + ':' + x[2:4] + ':' + '00', StringType())\n",
    "convert_udf2 = udf(lambda x : '00' + x[2:] if x[0:2] == '24' else x)\n",
    "\n",
    "df2 = df2.withColumn('Violation_Time', convert_udf1('Violation_Time'))\n",
    "df2 = df2.withColumn('Violation_Time', convert_udf2('Violation_Time'))"
   ]
  },
  {
   "cell_type": "markdown",
   "metadata": {},
   "source": [
    "##### Let's check the new format of the Violation_Time column:"
   ]
  },
  {
   "cell_type": "code",
   "execution_count": 56,
   "metadata": {
    "scrolled": false
   },
   "outputs": [
    {
     "name": "stdout",
     "output_type": "stream",
     "text": [
      "+--------------+\n",
      "|Violation_Time|\n",
      "+--------------+\n",
      "|      01:43:00|\n",
      "|      16:00:00|\n",
      "|      14:33:00|\n",
      "|      11:20:00|\n",
      "|      17:55:00|\n",
      "|      20:52:00|\n",
      "|      02:15:00|\n",
      "|      07:58:00|\n",
      "|      10:05:00|\n",
      "|      08:45:00|\n",
      "|      00:15:00|\n",
      "|      07:07:00|\n",
      "|      10:22:00|\n",
      "|      11:50:00|\n",
      "|      05:25:00|\n",
      "|      18:45:00|\n",
      "|      11:22:00|\n",
      "|      14:56:00|\n",
      "|      12:32:00|\n",
      "|      10:34:00|\n",
      "+--------------+\n",
      "only showing top 20 rows\n",
      "\n"
     ]
    }
   ],
   "source": [
    "df2.select('Violation_Time').show()"
   ]
  },
  {
   "cell_type": "markdown",
   "metadata": {},
   "source": [
    "It's good to see that now timings are in proper clock format."
   ]
  },
  {
   "cell_type": "markdown",
   "metadata": {},
   "source": [
    "#### (iii) Divide 24 hours into six equal discrete bins of time. Choose the intervals as you see fit. For each of these groups, find the three most commonly occurring violations."
   ]
  },
  {
   "cell_type": "markdown",
   "metadata": {},
   "source": [
    "##### Let's create a new view 'bin_table' for further processing:"
   ]
  },
  {
   "cell_type": "code",
   "execution_count": 57,
   "metadata": {},
   "outputs": [],
   "source": [
    "df2.createOrReplaceTempView('bin_table')"
   ]
  },
  {
   "cell_type": "markdown",
   "metadata": {},
   "source": [
    "##### Converting Timings in total 6 bins and saving the result in a new DF `bins`:"
   ]
  },
  {
   "cell_type": "code",
   "execution_count": 58,
   "metadata": {
    "scrolled": false
   },
   "outputs": [
    {
     "name": "stdout",
     "output_type": "stream",
     "text": [
      "+--------------+---------------------------+------------------+\n",
      "|Violation_Code|Number of Violation Tickets|Violation Time Bin|\n",
      "+--------------+---------------------------+------------------+\n",
      "|            61|                        962|                 1|\n",
      "|            15|                          2|                 5|\n",
      "|            40|                      47424|                 5|\n",
      "|            74|                      14276|                 5|\n",
      "|            74|                      28538|                 4|\n",
      "|            41|                       1905|                 3|\n",
      "|             6|                        129|                 6|\n",
      "|            23|                       1770|                 1|\n",
      "|            72|                        921|                 2|\n",
      "|             1|                        263|                 4|\n",
      "|            94|                         16|                 2|\n",
      "|            42|                         80|                 2|\n",
      "|            84|                      18199|                 2|\n",
      "|             0|                         19|                 4|\n",
      "|            51|                       8321|                 2|\n",
      "|            63|                         56|                 2|\n",
      "|            49|                         67|                 6|\n",
      "|            58|                         17|                 3|\n",
      "|            13|                       7226|                 3|\n",
      "|            50|                       9742|                 5|\n",
      "+--------------+---------------------------+------------------+\n",
      "only showing top 20 rows\n",
      "\n"
     ]
    }
   ],
   "source": [
    "bins = spark.sql(\"select Violation_Code, count(*) as `Number of Violation Tickets`, \\\n",
    "                  CASE \\\n",
    "                  WHEN HOUR(Violation_Time) between 0 and 3 THEN '1' \\\n",
    "                  WHEN HOUR(Violation_Time) between 4 and 7 THEN '2' \\\n",
    "                  WHEN HOUR(Violation_Time) between 8 and 11 THEN '3' \\\n",
    "                  WHEN HOUR(Violation_Time) between 12 and 15 THEN '4' \\\n",
    "                  WHEN HOUR(Violation_Time) between 16 and 19 THEN '5' \\\n",
    "                  WHEN HOUR(Violation_Time) between 20 and 23 THEN '6' \\\n",
    "                  END as `Violation Time Bin` \\\n",
    "                  from bin_table group by `Violation Time Bin`, violation_code\")\n",
    "bins.show()"
   ]
  },
  {
   "cell_type": "markdown",
   "metadata": {},
   "source": [
    "##### Creating new View `bins_table` using the above result:"
   ]
  },
  {
   "cell_type": "code",
   "execution_count": 59,
   "metadata": {},
   "outputs": [],
   "source": [
    "bins.createOrReplaceTempView('bins_table')"
   ]
  },
  {
   "cell_type": "markdown",
   "metadata": {},
   "source": [
    "##### Let's calculate the bin wise most three common violations on the basis of above table:"
   ]
  },
  {
   "cell_type": "markdown",
   "metadata": {},
   "source": [
    "##### Bin 1:"
   ]
  },
  {
   "cell_type": "code",
   "execution_count": 60,
   "metadata": {},
   "outputs": [
    {
     "name": "stdout",
     "output_type": "stream",
     "text": [
      "+--------------+\n",
      "|Violation_Code|\n",
      "+--------------+\n",
      "|            53|\n",
      "|            85|\n",
      "|            65|\n",
      "+--------------+\n",
      "only showing top 3 rows\n",
      "\n"
     ]
    }
   ],
   "source": [
    "bin1 = spark.sql(\"select Violation_Code from bins_table where `Violation Time Bin` == 1 group by Violation_Code order by count(*) desc\")\n",
    "bin1.show(3)"
   ]
  },
  {
   "cell_type": "markdown",
   "metadata": {},
   "source": [
    "##### Bin 2:"
   ]
  },
  {
   "cell_type": "code",
   "execution_count": 61,
   "metadata": {},
   "outputs": [
    {
     "name": "stdout",
     "output_type": "stream",
     "text": [
      "+--------------+\n",
      "|Violation_Code|\n",
      "+--------------+\n",
      "|            31|\n",
      "|            53|\n",
      "|            65|\n",
      "+--------------+\n",
      "only showing top 3 rows\n",
      "\n"
     ]
    }
   ],
   "source": [
    "bin2 = spark.sql(\"select Violation_Code from bins_table where `Violation Time Bin` == 2 group by Violation_Code order by count(*) desc\")\n",
    "bin2.show(3)"
   ]
  },
  {
   "cell_type": "code",
   "execution_count": 62,
   "metadata": {},
   "outputs": [
    {
     "name": "stdout",
     "output_type": "stream",
     "text": [
      "+--------------+\n",
      "|Violation_Code|\n",
      "+--------------+\n",
      "|            85|\n",
      "|            31|\n",
      "|            53|\n",
      "+--------------+\n",
      "only showing top 3 rows\n",
      "\n"
     ]
    }
   ],
   "source": [
    "bin3 = spark.sql(\"select Violation_Code from bins_table where `Violation Time Bin` == 3 group by Violation_Code order by count(*) desc\")\n",
    "bin3.show(3)"
   ]
  },
  {
   "cell_type": "code",
   "execution_count": 63,
   "metadata": {},
   "outputs": [
    {
     "name": "stdout",
     "output_type": "stream",
     "text": [
      "+--------------+\n",
      "|Violation_Code|\n",
      "+--------------+\n",
      "|            85|\n",
      "|            31|\n",
      "|            78|\n",
      "+--------------+\n",
      "only showing top 3 rows\n",
      "\n"
     ]
    }
   ],
   "source": [
    "bin4 = spark.sql(\"select Violation_Code from bins_table where `Violation Time Bin` == 4 group by Violation_Code order by count(*) desc\")\n",
    "bin4.show(3)"
   ]
  },
  {
   "cell_type": "code",
   "execution_count": 64,
   "metadata": {},
   "outputs": [
    {
     "name": "stdout",
     "output_type": "stream",
     "text": [
      "+--------------+\n",
      "|Violation_Code|\n",
      "+--------------+\n",
      "|            53|\n",
      "|            31|\n",
      "|            65|\n",
      "+--------------+\n",
      "only showing top 3 rows\n",
      "\n"
     ]
    }
   ],
   "source": [
    "bin5 = spark.sql(\"select Violation_Code from bins_table where `Violation Time Bin` == 5 group by Violation_Code order by count(*) desc\")\n",
    "bin5.show(3)"
   ]
  },
  {
   "cell_type": "markdown",
   "metadata": {},
   "source": [
    "#### (iv) Now, try another direction. For the three most commonly occurring violation codes, find the most common time of the day (in terms of the bins from the previous part)."
   ]
  },
  {
   "cell_type": "code",
   "execution_count": 66,
   "metadata": {},
   "outputs": [
    {
     "name": "stdout",
     "output_type": "stream",
     "text": [
      "+------------------+---------------+\n",
      "|Violation Time Bin|Total Violation|\n",
      "+------------------+---------------+\n",
      "|                 3|             99|\n",
      "|                 4|             99|\n",
      "|                 1|             97|\n",
      "+------------------+---------------+\n",
      "only showing top 3 rows\n",
      "\n"
     ]
    }
   ],
   "source": [
    "time_bin = spark.sql(\"select `Violation Time Bin`, count(*) as `Total Violation` from bins_table group by `Violation Time Bin` order by `Total Violation` desc\")\n",
    "time_bin.show(3)"
   ]
  },
  {
   "cell_type": "markdown",
   "metadata": {},
   "source": [
    "Bins 3, 4 and 1 are having most violations"
   ]
  },
  {
   "cell_type": "markdown",
   "metadata": {},
   "source": [
    "### 6. Let’s try and find some seasonality in this data:"
   ]
  },
  {
   "cell_type": "markdown",
   "metadata": {},
   "source": [
    "#### (i) First, divide the year into a certain number of seasons and find the frequencies of tickets for each season."
   ]
  },
  {
   "cell_type": "markdown",
   "metadata": {},
   "source": [
    "##### Let's create a ne table `season_table`:"
   ]
  },
  {
   "cell_type": "code",
   "execution_count": 67,
   "metadata": {},
   "outputs": [],
   "source": [
    "df2.createOrReplaceTempView('season_table')"
   ]
  },
  {
   "cell_type": "markdown",
   "metadata": {},
   "source": [
    "##### Using the column `Issue_Date` and dividing the year into 4 seasons as per below details:\n",
    "- **Spring:** March, April, May\n",
    "- **Summer:** June, July, August\n",
    "- **Autumn:** September. October, November\n",
    "- **Winter:** December, January, February"
   ]
  },
  {
   "cell_type": "code",
   "execution_count": 68,
   "metadata": {},
   "outputs": [
    {
     "name": "stdout",
     "output_type": "stream",
     "text": [
      "+--------------+-----+------+\n",
      "|Violation_Code|Month|Season|\n",
      "+--------------+-----+------+\n",
      "|             7|    7|Summer|\n",
      "|             7|    7|Summer|\n",
      "|             5|    8|Summer|\n",
      "|            47|    6|Summer|\n",
      "|            69|   11|Autumn|\n",
      "|             7|    6|Summer|\n",
      "|            40|    8|Summer|\n",
      "|            36|   12|Winter|\n",
      "|            36|   11|Autumn|\n",
      "|             5|   10|Autumn|\n",
      "|            78|    1|Winter|\n",
      "|            19|    9|Autumn|\n",
      "|            36|   10|Autumn|\n",
      "|            21|    9|Autumn|\n",
      "|            40|    2|Winter|\n",
      "|            71|    7|Summer|\n",
      "|             7|    9|Autumn|\n",
      "|            64|    1|Winter|\n",
      "|            20|    4|Spring|\n",
      "|            36|    2|Winter|\n",
      "+--------------+-----+------+\n",
      "only showing top 20 rows\n",
      "\n"
     ]
    }
   ],
   "source": [
    "season = spark.sql(\"select Violation_Code, month(Issue_Date) as Month, \\\n",
    "          CASE \\\n",
    "          WHEN month(Issue_Date) between 3 and 5 THEN 'Spring' \\\n",
    "          WHEN month(Issue_Date) between 6 and 8 THEN 'Summer' \\\n",
    "          WHEN month(Issue_Date) between 9 and 11 THEN 'Autumn' \\\n",
    "          WHEN month(Issue_Date) in (1, 2, 12) THEN 'Winter' \\\n",
    "          END as Season \\\n",
    "          from season_table\")\n",
    "season.show()"
   ]
  },
  {
   "cell_type": "markdown",
   "metadata": {},
   "source": [
    "##### Creating a new table view `seasonality_table` on the basis of above table:"
   ]
  },
  {
   "cell_type": "code",
   "execution_count": 69,
   "metadata": {},
   "outputs": [],
   "source": [
    "season.createOrReplaceTempView('seasonality_table')"
   ]
  },
  {
   "cell_type": "markdown",
   "metadata": {},
   "source": [
    "##### Now, let's calculate the season wise total violations and infer the result:"
   ]
  },
  {
   "cell_type": "code",
   "execution_count": 70,
   "metadata": {},
   "outputs": [
    {
     "name": "stdout",
     "output_type": "stream",
     "text": [
      "+------+---------------+\n",
      "|Season|Total Violation|\n",
      "+------+---------------+\n",
      "|Spring|        2850576|\n",
      "|Autumn|        2807007|\n",
      "|Summer|        2580599|\n",
      "|Winter|        2459993|\n",
      "+------+---------------+\n",
      "\n"
     ]
    }
   ],
   "source": [
    "spark.sql(\"select Season, count(*) as `Total Violation` from seasonality_table group by Season order by `Total Violation` desc\").show()"
   ]
  },
  {
   "cell_type": "markdown",
   "metadata": {},
   "source": [
    "As per the above analysis, we see that most number of violation occurred during Summer. There mat=y be a reason that most of the people go for outing during summer vacation and it creates a parking problem in few regions."
   ]
  },
  {
   "cell_type": "markdown",
   "metadata": {},
   "source": [
    "#### (ii) Find the three most common violations for each of these seasons."
   ]
  },
  {
   "cell_type": "markdown",
   "metadata": {},
   "source": [
    "##### Spring:"
   ]
  },
  {
   "cell_type": "code",
   "execution_count": 71,
   "metadata": {},
   "outputs": [
    {
     "name": "stdout",
     "output_type": "stream",
     "text": [
      "+--------------+--------------------------+\n",
      "|Violation_Code|Total Violations in Spring|\n",
      "+--------------+--------------------------+\n",
      "|            21|                    398203|\n",
      "|            36|                    344366|\n",
      "|            38|                    270084|\n",
      "+--------------+--------------------------+\n",
      "only showing top 3 rows\n",
      "\n"
     ]
    }
   ],
   "source": [
    "spring = spark.sql(\"select Violation_Code, count(*) as `Total Violations in Spring` from seasonality_table where Season = 'Spring' group by Violation_Code order by `Total Violations in Spring` desc\")\n",
    "spring.show(3)"
   ]
  },
  {
   "cell_type": "markdown",
   "metadata": {},
   "source": [
    "##### Summer:"
   ]
  },
  {
   "cell_type": "code",
   "execution_count": 72,
   "metadata": {},
   "outputs": [
    {
     "name": "stdout",
     "output_type": "stream",
     "text": [
      "+--------------+--------------------------+\n",
      "|Violation_Code|Total Violations in Summer|\n",
      "+--------------+--------------------------+\n",
      "|            21|                    401572|\n",
      "|            38|                    247074|\n",
      "|            36|                    240065|\n",
      "+--------------+--------------------------+\n",
      "only showing top 3 rows\n",
      "\n"
     ]
    }
   ],
   "source": [
    "summer = spark.sql(\"select Violation_Code, count(*) as `Total Violations in Summer` from seasonality_table where Season = 'Summer' group by Violation_Code order by `Total Violations in Summer` desc\")\n",
    "summer.show(3)"
   ]
  },
  {
   "cell_type": "markdown",
   "metadata": {},
   "source": [
    "##### Autumn:"
   ]
  },
  {
   "cell_type": "code",
   "execution_count": 73,
   "metadata": {},
   "outputs": [
    {
     "name": "stdout",
     "output_type": "stream",
     "text": [
      "+--------------+--------------------------+\n",
      "|Violation_Code|Total Violations in Autumn|\n",
      "+--------------+--------------------------+\n",
      "|            36|                    455426|\n",
      "|            21|                    353670|\n",
      "|            38|                    283591|\n",
      "+--------------+--------------------------+\n",
      "only showing top 3 rows\n",
      "\n"
     ]
    }
   ],
   "source": [
    "autumn = spark.sql(\"select Violation_Code, count(*) as `Total Violations in Autumn` from seasonality_table where Season = 'Autumn' group by Violation_Code order by `Total Violations in Autumn` desc\")\n",
    "autumn.show(3)"
   ]
  },
  {
   "cell_type": "markdown",
   "metadata": {},
   "source": [
    "##### Winter:"
   ]
  },
  {
   "cell_type": "code",
   "execution_count": 74,
   "metadata": {},
   "outputs": [
    {
     "name": "stdout",
     "output_type": "stream",
     "text": [
      "+--------------+--------------------------+\n",
      "|Violation_Code|Total Violations in Winter|\n",
      "+--------------+--------------------------+\n",
      "|            36|                    358842|\n",
      "|            21|                    358131|\n",
      "|            38|                    259106|\n",
      "+--------------+--------------------------+\n",
      "only showing top 3 rows\n",
      "\n"
     ]
    }
   ],
   "source": [
    "winter = spark.sql(\"select Violation_Code, count(*) as `Total Violations in Winter` from seasonality_table where Season = 'Winter' group by Violation_Code order by `Total Violations in Winter` desc\")\n",
    "winter.show(3)"
   ]
  },
  {
   "cell_type": "markdown",
   "metadata": {},
   "source": [
    "#### Descripton:\n",
    "As per the above analysis, it is found that the violation codes **36**, **21** and **38** are most common across all the sesons."
   ]
  },
  {
   "cell_type": "markdown",
   "metadata": {},
   "source": [
    "### 7. The fines collected from all the instances of parking violation constitute a source of revenue for the NYC Police Department. Let’s take an example of estimating this for the three most commonly occurring codes:"
   ]
  },
  {
   "cell_type": "markdown",
   "metadata": {},
   "source": [
    "#### (i) Find the total occurrences of the three most common violation codes:"
   ]
  },
  {
   "cell_type": "code",
   "execution_count": 75,
   "metadata": {},
   "outputs": [
    {
     "name": "stdout",
     "output_type": "stream",
     "text": [
      "+--------------+----------------+\n",
      "|Violation_Code|Total Violations|\n",
      "+--------------+----------------+\n",
      "|            21|         1511576|\n",
      "|            36|         1398699|\n",
      "|            38|         1059855|\n",
      "+--------------+----------------+\n",
      "only showing top 3 rows\n",
      "\n"
     ]
    }
   ],
   "source": [
    "most_common_violation = spark.sql(\"select Violation_Code, count(*) as `Total Violations` from nyc_table group by Violation_Code order by `Total Violations` desc\")\n",
    "most_common_violation.show(3)"
   ]
  },
  {
   "cell_type": "markdown",
   "metadata": {},
   "source": [
    "So, violation codes **36**, **21** and **38** are most common."
   ]
  },
  {
   "cell_type": "markdown",
   "metadata": {},
   "source": [
    "#### (ii) Then, visit the website: http://www1.nyc.gov/site/finance/vehicles/services-violation-codes.page . It lists the fines associated with different violation codes. They’re divided into two categories: one for the highest-density locations in the city and the other for the rest of the city. For the sake of simplicity, take the average of the two."
   ]
  },
  {
   "cell_type": "markdown",
   "metadata": {},
   "source": [
    "So, most occurred violation code is **21**. \n",
    "As per the above site, the fine for this violation code is USD 65.\n",
    "As per the above site, it is found that the fine for both highest-density locations and other locations is same $65."
   ]
  },
  {
   "cell_type": "code",
   "execution_count": 76,
   "metadata": {},
   "outputs": [
    {
     "name": "stdout",
     "output_type": "stream",
     "text": [
      "+--------------+----------------+--------+\n",
      "|Violation_Code|Total Violations|    Fine|\n",
      "+--------------+----------------+--------+\n",
      "|            21|         1511576|98252440|\n",
      "|            36|         1398699|90915435|\n",
      "|            38|         1059855|68890575|\n",
      "+--------------+----------------+--------+\n",
      "only showing top 3 rows\n",
      "\n"
     ]
    }
   ],
   "source": [
    "collected_fine = most_common_violation.withColumn('Fine', when(col('Violation_Code') == 21, col('Total Violations') * 65) \\\n",
    "                                                 .otherwise(col('Total Violations') * 65))\n",
    "collected_fine.show(3)"
   ]
  },
  {
   "cell_type": "markdown",
   "metadata": {},
   "source": [
    "##### Printing total fine collected:"
   ]
  },
  {
   "cell_type": "code",
   "execution_count": 77,
   "metadata": {},
   "outputs": [
    {
     "name": "stdout",
     "output_type": "stream",
     "text": [
      "Total Fine Collected for 3 most common violations:  128240515\n"
     ]
    }
   ],
   "source": [
    "print(\"Total Fine Collected for 3 most common violations: \", 49925655 + 43079725 + 35235135)"
   ]
  },
  {
   "cell_type": "markdown",
   "metadata": {},
   "source": [
    "#### Conclusion:\n",
    "- Most number of violations occurred during summer. This is expected behavior because most of the people go for outing during summer vacation and they have to find place for the parking in a dense region where already a lot of people parked their vehicles.\n",
    "- The Violation Code **21** is the most occurring violation which denotes \"No parking where parking is not allowed by sign, street marking or traffic control device\".\n",
    "- Time windows which fall under the bins 3, 4, 1 have most violations.\n",
    "- Precinct Zone 19, 14 and 1 have highest violations.\n",
    "- New York has most number of parking violation issue.\n",
    "- Parking is really a big problem and due to huge violations, NY police had collected total fine of 128240515 $."
   ]
  },
  {
   "cell_type": "markdown",
   "metadata": {},
   "source": [
    "##### Stopping the spark session:"
   ]
  },
  {
   "cell_type": "code",
   "execution_count": 78,
   "metadata": {},
   "outputs": [],
   "source": [
    "spark.stop()"
   ]
  },
  {
   "cell_type": "code",
   "execution_count": null,
   "metadata": {},
   "outputs": [],
   "source": []
  }
 ],
 "metadata": {
  "kernelspec": {
   "display_name": "Python 3",
   "language": "python",
   "name": "python3"
  },
  "language_info": {
   "codemirror_mode": {
    "name": "ipython",
    "version": 3
   },
   "file_extension": ".py",
   "mimetype": "text/x-python",
   "name": "python",
   "nbconvert_exporter": "python",
   "pygments_lexer": "ipython3",
   "version": "3.7.0"
  }
 },
 "nbformat": 4,
 "nbformat_minor": 4
}
